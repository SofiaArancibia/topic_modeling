{
 "cells": [
  {
   "cell_type": "code",
   "execution_count": 15,
   "metadata": {},
   "outputs": [
    {
     "name": "stderr",
     "output_type": "stream",
     "text": [
      "[nltk_data] Downloading package stopwords to /home/sofia/nltk_data...\n",
      "[nltk_data]   Package stopwords is already up-to-date!\n"
     ]
    }
   ],
   "source": [
    "import pandas as pd\n",
    "import nltk\n",
    "from nltk import SnowballStemmer\n",
    "nltk.download('stopwords')\n",
    "from nltk.corpus import stopwords"
   ]
  },
  {
   "cell_type": "code",
   "execution_count": 16,
   "metadata": {},
   "outputs": [],
   "source": [
    "data = pd.read_csv(\"../data/interim/dataset_v2.csv\")"
   ]
  },
  {
   "cell_type": "code",
   "execution_count": 17,
   "metadata": {},
   "outputs": [
    {
     "data": {
      "text/html": [
       "<div>\n",
       "<style scoped>\n",
       "    .dataframe tbody tr th:only-of-type {\n",
       "        vertical-align: middle;\n",
       "    }\n",
       "\n",
       "    .dataframe tbody tr th {\n",
       "        vertical-align: top;\n",
       "    }\n",
       "\n",
       "    .dataframe thead th {\n",
       "        text-align: right;\n",
       "    }\n",
       "</style>\n",
       "<table border=\"1\" class=\"dataframe\">\n",
       "  <thead>\n",
       "    <tr style=\"text-align: right;\">\n",
       "      <th></th>\n",
       "      <th>Unnamed: 0</th>\n",
       "      <th>manually_assigned_tag</th>\n",
       "      <th>url</th>\n",
       "      <th>content</th>\n",
       "    </tr>\n",
       "  </thead>\n",
       "  <tbody>\n",
       "    <tr>\n",
       "      <th>0</th>\n",
       "      <td>0</td>\n",
       "      <td>supermarket</td>\n",
       "      <td>https://www.walmart.com.ar</td>\n",
       "      <td>nueva nueva correctamente puede cerrar lacteos...</td>\n",
       "    </tr>\n",
       "    <tr>\n",
       "      <th>1</th>\n",
       "      <td>0</td>\n",
       "      <td>supermarket</td>\n",
       "      <td>https://www.makro.com.ar</td>\n",
       "      <td>logo entra cuenta quiero fornecedor sobre quie...</td>\n",
       "    </tr>\n",
       "    <tr>\n",
       "      <th>2</th>\n",
       "      <td>0</td>\n",
       "      <td>supermarket</td>\n",
       "      <td>https://www.alvearsupermercados.com.ar/</td>\n",
       "      <td>alvearsupermercados logo blanco alvearsupermer...</td>\n",
       "    </tr>\n",
       "    <tr>\n",
       "      <th>3</th>\n",
       "      <td>0</td>\n",
       "      <td>supermarket</td>\n",
       "      <td>https://www.yaguar.com.ar/</td>\n",
       "      <td>supermercado blanca chaco cordoba cordoba cont...</td>\n",
       "    </tr>\n",
       "    <tr>\n",
       "      <th>4</th>\n",
       "      <td>0</td>\n",
       "      <td>supermarket</td>\n",
       "      <td>https://www.libertadsa.com.ar/</td>\n",
       "      <td>logo separador cordoba separador separador sep...</td>\n",
       "    </tr>\n",
       "  </tbody>\n",
       "</table>\n",
       "</div>"
      ],
      "text/plain": [
       "   Unnamed: 0 manually_assigned_tag                                      url  \\\n",
       "0           0           supermarket               https://www.walmart.com.ar   \n",
       "1           0           supermarket                 https://www.makro.com.ar   \n",
       "2           0           supermarket  https://www.alvearsupermercados.com.ar/   \n",
       "3           0           supermarket               https://www.yaguar.com.ar/   \n",
       "4           0           supermarket           https://www.libertadsa.com.ar/   \n",
       "\n",
       "                                             content  \n",
       "0  nueva nueva correctamente puede cerrar lacteos...  \n",
       "1  logo entra cuenta quiero fornecedor sobre quie...  \n",
       "2  alvearsupermercados logo blanco alvearsupermer...  \n",
       "3  supermercado blanca chaco cordoba cordoba cont...  \n",
       "4  logo separador cordoba separador separador sep...  "
      ]
     },
     "execution_count": 17,
     "metadata": {},
     "output_type": "execute_result"
    }
   ],
   "source": [
    "data.head()"
   ]
  },
  {
   "cell_type": "code",
   "execution_count": 18,
   "metadata": {},
   "outputs": [],
   "source": [
    "data = data.drop(columns=['Unnamed: 0'])"
   ]
  },
  {
   "cell_type": "code",
   "execution_count": 19,
   "metadata": {},
   "outputs": [
    {
     "data": {
      "text/plain": [
       "Index(['manually_assigned_tag', 'url', 'content'], dtype='object')"
      ]
     },
     "execution_count": 19,
     "metadata": {},
     "output_type": "execute_result"
    }
   ],
   "source": [
    "data.columns"
   ]
  },
  {
   "cell_type": "code",
   "execution_count": 20,
   "metadata": {},
   "outputs": [
    {
     "data": {
      "text/html": [
       "<div>\n",
       "<style scoped>\n",
       "    .dataframe tbody tr th:only-of-type {\n",
       "        vertical-align: middle;\n",
       "    }\n",
       "\n",
       "    .dataframe tbody tr th {\n",
       "        vertical-align: top;\n",
       "    }\n",
       "\n",
       "    .dataframe thead th {\n",
       "        text-align: right;\n",
       "    }\n",
       "</style>\n",
       "<table border=\"1\" class=\"dataframe\">\n",
       "  <thead>\n",
       "    <tr style=\"text-align: right;\">\n",
       "      <th></th>\n",
       "      <th>manually_assigned_tag</th>\n",
       "      <th>url</th>\n",
       "      <th>content</th>\n",
       "    </tr>\n",
       "  </thead>\n",
       "  <tbody>\n",
       "    <tr>\n",
       "      <th>0</th>\n",
       "      <td>supermarket</td>\n",
       "      <td>https://www.walmart.com.ar</td>\n",
       "      <td>nueva nueva correctamente puede cerrar lacteos...</td>\n",
       "    </tr>\n",
       "    <tr>\n",
       "      <th>1</th>\n",
       "      <td>supermarket</td>\n",
       "      <td>https://www.makro.com.ar</td>\n",
       "      <td>logo entra cuenta quiero fornecedor sobre quie...</td>\n",
       "    </tr>\n",
       "    <tr>\n",
       "      <th>2</th>\n",
       "      <td>supermarket</td>\n",
       "      <td>https://www.alvearsupermercados.com.ar/</td>\n",
       "      <td>alvearsupermercados logo blanco alvearsupermer...</td>\n",
       "    </tr>\n",
       "    <tr>\n",
       "      <th>3</th>\n",
       "      <td>supermarket</td>\n",
       "      <td>https://www.yaguar.com.ar/</td>\n",
       "      <td>supermercado blanca chaco cordoba cordoba cont...</td>\n",
       "    </tr>\n",
       "    <tr>\n",
       "      <th>4</th>\n",
       "      <td>supermarket</td>\n",
       "      <td>https://www.libertadsa.com.ar/</td>\n",
       "      <td>logo separador cordoba separador separador sep...</td>\n",
       "    </tr>\n",
       "  </tbody>\n",
       "</table>\n",
       "</div>"
      ],
      "text/plain": [
       "  manually_assigned_tag                                      url  \\\n",
       "0           supermarket               https://www.walmart.com.ar   \n",
       "1           supermarket                 https://www.makro.com.ar   \n",
       "2           supermarket  https://www.alvearsupermercados.com.ar/   \n",
       "3           supermarket               https://www.yaguar.com.ar/   \n",
       "4           supermarket           https://www.libertadsa.com.ar/   \n",
       "\n",
       "                                             content  \n",
       "0  nueva nueva correctamente puede cerrar lacteos...  \n",
       "1  logo entra cuenta quiero fornecedor sobre quie...  \n",
       "2  alvearsupermercados logo blanco alvearsupermer...  \n",
       "3  supermercado blanca chaco cordoba cordoba cont...  \n",
       "4  logo separador cordoba separador separador sep...  "
      ]
     },
     "execution_count": 20,
     "metadata": {},
     "output_type": "execute_result"
    }
   ],
   "source": [
    "data.head()"
   ]
  },
  {
   "cell_type": "code",
   "execution_count": 21,
   "metadata": {},
   "outputs": [
    {
     "name": "stdout",
     "output_type": "stream",
     "text": [
      "Overwriting Stemmer.py\n"
     ]
    }
   ],
   "source": [
    "%%writefile Stemmer.py\n",
    "import nltk\n",
    "from collections import defaultdict\n",
    "from nltk import SnowballStemmer\n",
    "nltk.download('stopwords')\n",
    "from nltk.corpus import stopwords\n",
    "class Stemmer(): # naive class\n",
    "    def __init__(self):\n",
    "        self.stems = list()\n",
    "        self.stemmed_freqs = defaultdict(list)\n",
    "        self.tokens = list()\n",
    "\n",
    "    def tokenize(self, document):\n",
    "        '''\n",
    "        tokenize document and remove (some of) non-spanish words\n",
    "        '''\n",
    "        if not isinstance(document, list):\n",
    "            if isinstance(document, str):\n",
    "                self.tokens = document.split(' ')\n",
    "            else:\n",
    "                raise TypeError('str or dict expected, {} found.'.format(type(document)))\n",
    "        else:\n",
    "            self.tokens = document\n",
    "    \n",
    "    def stemm(self, document):\n",
    "        '''\n",
    "        document stemming\n",
    "        '''\n",
    "        if len(self.tokens) == 0: #empty list\n",
    "            self.tokenize(document)\n",
    "        else:\n",
    "            spanishstemmer = SnowballStemmer('spanish')\n",
    "            self.stems = [spanishstemmer.stem(token) for token in self.tokens] "
   ]
  },
  {
   "cell_type": "code",
   "execution_count": 22,
   "metadata": {},
   "outputs": [],
   "source": [
    "# Delete rows with empty 'content' field\n",
    "data.dropna(subset = [\"content\"], inplace=True)"
   ]
  },
  {
   "cell_type": "code",
   "execution_count": 23,
   "metadata": {},
   "outputs": [],
   "source": [
    "def remove_short_words(stringObj, wordLong = 4):\n",
    "    '''\n",
    "    remove words with lenght <= wordLong\n",
    "    \n",
    "    return: list\n",
    "    '''\n",
    "    listObj = stringObj.split(' ')\n",
    "    words = list()\n",
    "    words = [word for word in listObj if len(word)>wordLong]\n",
    "#     if len(stringObj) > wordLong:\n",
    "#         print(stringObj)\n",
    "#         words.append(stringObj)\n",
    "    return words"
   ]
  },
  {
   "cell_type": "code",
   "execution_count": 24,
   "metadata": {},
   "outputs": [],
   "source": [
    "data['content'] = data['content'].map(lambda x: remove_short_words(x))"
   ]
  },
  {
   "cell_type": "code",
   "execution_count": 25,
   "metadata": {},
   "outputs": [],
   "source": [
    "data.to_csv('../data/processed/processed_dataset.csv')"
   ]
  },
  {
   "cell_type": "code",
   "execution_count": 26,
   "metadata": {},
   "outputs": [],
   "source": [
    "def remove_less_frequent_words(myList, frequency=10):\n",
    "    from collections import Counter\n",
    "    words_freq = Counter(myList)\n",
    "    result = list()\n",
    "    words = [[elem[0]]*elem[1] for elem in words_freq.items() if elem[1] >= frequency]    \n",
    "    for val in words:\n",
    "        result.extend(val)\n",
    "    return result    "
   ]
  },
  {
   "cell_type": "code",
   "execution_count": 27,
   "metadata": {},
   "outputs": [],
   "source": [
    "data['content'] = data['content'].map(lambda x: remove_less_frequent_words(x, 2))"
   ]
  },
  {
   "cell_type": "code",
   "execution_count": 28,
   "metadata": {},
   "outputs": [],
   "source": [
    "data.to_csv('../data/processed/processed_dataset_less_frequent_words_removed.csv')\n",
    "\n",
    "\n",
    "#dejaste leyendo dataset_v2"
   ]
  }
 ],
 "metadata": {
  "kernelspec": {
   "display_name": "Python 3",
   "language": "python",
   "name": "python3"
  },
  "language_info": {
   "codemirror_mode": {
    "name": "ipython",
    "version": 3
   },
   "file_extension": ".py",
   "mimetype": "text/x-python",
   "name": "python",
   "nbconvert_exporter": "python",
   "pygments_lexer": "ipython3",
   "version": "3.6.8"
  }
 },
 "nbformat": 4,
 "nbformat_minor": 4
}
